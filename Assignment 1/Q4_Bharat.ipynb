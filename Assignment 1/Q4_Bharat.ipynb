{
  "cells": [
    {
      "cell_type": "markdown",
      "metadata": {
        "id": "y5niXr3T2K7d"
      },
      "source": [
        "### Question 4"
      ]
    },
    {
      "cell_type": "markdown",
      "metadata": {
        "id": "6EXa6DRW2ZyV"
      },
      "source": [
        "#### Import relevant packages"
      ]
    },
    {
      "cell_type": "code",
      "execution_count": 2,
      "metadata": {
        "id": "Sgf1XoAoC2X2"
      },
      "outputs": [],
      "source": [
        "from matplotlib import pyplot as plt\n",
        "import tensorflow as tf\n",
        "from tensorflow.keras import layers"
      ]
    },
    {
      "cell_type": "markdown",
      "metadata": {
        "id": "MX5zcJj-2kMD"
      },
      "source": [
        "#### (a) Load the dataset `binary_alpha_digits` from `tensorflow_datasets`. Split the dataset into 60% for training and 40% for testing [**2 points**]"
      ]
    },
    {
      "cell_type": "code",
      "execution_count": 3,
      "metadata": {
        "id": "gvzpkwYGWKj0"
      },
      "outputs": [
        {
          "name": "stdout",
          "output_type": "stream",
          "text": [
            "\u001b[1mDownloading and preparing dataset Unknown size (download: Unknown size, generated: Unknown size, total: Unknown size) to ~\\tensorflow_datasets\\binary_alpha_digits\\1.0.0...\u001b[0m\n"
          ]
        },
        {
          "data": {
            "application/vnd.jupyter.widget-view+json": {
              "model_id": "6cebd5b4445c43cc90ac75d432d4900b",
              "version_major": 2,
              "version_minor": 0
            },
            "text/plain": [
              "Dl Completed...: 0 url [00:00, ? url/s]"
            ]
          },
          "metadata": {},
          "output_type": "display_data"
        },
        {
          "data": {
            "application/vnd.jupyter.widget-view+json": {
              "model_id": "e4072c07ecba40bf870f36a7664597cf",
              "version_major": 2,
              "version_minor": 0
            },
            "text/plain": [
              "Dl Size...: 0 MiB [00:00, ? MiB/s]"
            ]
          },
          "metadata": {},
          "output_type": "display_data"
        },
        {
          "data": {
            "application/vnd.jupyter.widget-view+json": {
              "model_id": "89525b80b0224ea0aa305169e1d6e668",
              "version_major": 2,
              "version_minor": 0
            },
            "text/plain": [
              "Generating splits...:   0%|          | 0/1 [00:00<?, ? splits/s]"
            ]
          },
          "metadata": {},
          "output_type": "display_data"
        },
        {
          "data": {
            "application/vnd.jupyter.widget-view+json": {
              "model_id": "cc6084061d6d40a8a26c4acad1be0573",
              "version_major": 2,
              "version_minor": 0
            },
            "text/plain": [
              "Generating train examples...: 0 examples [00:00, ? examples/s]"
            ]
          },
          "metadata": {},
          "output_type": "display_data"
        },
        {
          "data": {
            "application/vnd.jupyter.widget-view+json": {
              "model_id": "cae67704f38c49b89efb09ddbf9c37a7",
              "version_major": 2,
              "version_minor": 0
            },
            "text/plain": [
              "Shuffling ~\\tensorflow_datasets\\binary_alpha_digits\\1.0.0.incompleteRX3RXW\\binary_alpha_digits-train.tfrecord*…"
            ]
          },
          "metadata": {},
          "output_type": "display_data"
        },
        {
          "name": "stdout",
          "output_type": "stream",
          "text": [
            "\u001b[1mDataset binary_alpha_digits downloaded and prepared to ~\\tensorflow_datasets\\binary_alpha_digits\\1.0.0. Subsequent calls will reuse this data.\u001b[0m\n"
          ]
        }
      ],
      "source": [
        "import tensorflow_datasets as tfds\n",
        "\n",
        "## write your code here\n",
        "[train, test], info = tfds.load(\"binary_alpha_digits\", split = [\"train[:60%]\", \"train[60%:]\"], with_info=True)"
      ]
    },
    {
      "cell_type": "code",
      "execution_count": 4,
      "metadata": {
        "id": "puWf0H3Hj7Jr"
      },
      "outputs": [],
      "source": [
        "## write your code here to split data into 60% train 40% test\n",
        "import numpy as np\n",
        "\n",
        "train_images = np.array(list(map(lambda x:x[\"image\"].numpy(), train)))\n",
        "train_labels = np.array(list(map(lambda x:x[\"label\"].numpy(), train)))\n",
        "test_images = np.array(list(map(lambda x:x[\"image\"].numpy(), test)))\n",
        "test_labels = np.array(list(map(lambda x:x[\"label\"].numpy(), test)))"
      ]
    },
    {
      "cell_type": "markdown",
      "metadata": {
        "id": "aa-fkHXkqbr4"
      },
      "source": [
        "#### (b) Build a dense ANN with at least one hidden layer with at least two nodes. You should try different hyper parameter configurations to get the best performing ANN. [**2 points**]"
      ]
    },
    {
      "cell_type": "code",
      "execution_count": 5,
      "metadata": {
        "id": "JPRB2sVOHqEK"
      },
      "outputs": [],
      "source": [
        "model = tf.keras.Sequential()\n",
        "\n",
        "## write your code here to build your dense ANN\n",
        "model = tf.keras.Sequential()\n",
        "model.add(layers.Flatten(input_shape=(20, 16, 1)))\n",
        "model.add(layers.Dense(1000, activation=tf.nn.relu))\n",
        "model.add(layers.Dense(1000, activation=tf.nn.relu))\n",
        "model.add(layers.Dense(36, activation=tf.nn.softmax))"
      ]
    },
    {
      "cell_type": "markdown",
      "metadata": {
        "id": "3jpiyjS6rMVZ"
      },
      "source": [
        "#### (c) Answer the following questions: [**1 point**]\n",
        "\n",
        "What is the size of your output layer? [36]\n",
        "\n",
        "What is the activation function of your output layer? [softmax]"
      ]
    },
    {
      "cell_type": "markdown",
      "metadata": {
        "id": "yTrcDebWsg7J"
      },
      "source": [
        "#### (d) Compile and train your model [**2 points**]\n",
        "\n",
        "What is the loss function you use? [sparse_categorical_crossentropy]"
      ]
    },
    {
      "cell_type": "code",
      "execution_count": 6,
      "metadata": {
        "id": "TXNYaNBnJDof"
      },
      "outputs": [],
      "source": [
        "### write your code here to compile model\n",
        "model.compile(optimizer=\"Adam\",\n",
        "              loss='sparse_categorical_crossentropy',\n",
        "              metrics=['accuracy'])"
      ]
    },
    {
      "cell_type": "code",
      "execution_count": 7,
      "metadata": {
        "id": "iQ5oTF2XJFE6"
      },
      "outputs": [],
      "source": [
        "### write your code here to train your model\n",
        "epochs = 50\n",
        "history = model.fit(train_images, train_labels, epochs=epochs, verbose = 0)"
      ]
    },
    {
      "cell_type": "markdown",
      "metadata": {
        "id": "Bx80XJHjw2vI"
      },
      "source": [
        "#### (e) Plot the training loss across the different epochs [**1 point**]"
      ]
    },
    {
      "cell_type": "code",
      "execution_count": 8,
      "metadata": {
        "id": "Gkv99m3swRmg"
      },
      "outputs": [
        {
          "data": {
            "image/png": "[encoded data removed]",
            "text/plain": [
              "<Figure size 640x480 with 1 Axes>"
            ]
          },
          "metadata": {},
          "output_type": "display_data"
        }
      ],
      "source": [
        "### write your code to plot training loss (hint: use history)\n",
        "\n",
        "fig = plt.figure()\n",
        "ax = fig.gca()\n",
        "ax.plot([i for i in range(1, 51)], history.history[\"loss\"])\n",
        "ax.set_title(\"Loss over Epochs\")\n",
        "ax.set_xlabel(\"Epochs\")\n",
        "ax.set_ylabel(\"Loss\")\n",
        "\n",
        "plt.show()"
      ]
    },
    {
      "cell_type": "markdown",
      "metadata": {
        "id": "lx3JLnhQyQLZ"
      },
      "source": [
        "#### (f) What is the overall accuracy and per-class accuracy on test dataset? [**2 points**]"
      ]
    },
    {
      "cell_type": "code",
      "execution_count": 9,
      "metadata": {
        "id": "ik44l59g6CoH"
      },
      "outputs": [
        {
          "name": "stdout",
          "output_type": "stream",
          "text": [
            "Overall accuracy: 74.38%\n"
          ]
        }
      ],
      "source": [
        "#### write your code to report overall accuracy on test set\n",
        "\n",
        "result = model.evaluate(test_images, test_labels, verbose = 0)\n",
        "print(f\"Overall accuracy: {result[1]:.2%}\")"
      ]
    },
    {
      "cell_type": "markdown",
      "metadata": {
        "id": "Sm9unSC26ag1"
      },
      "source": [
        "What is the overall accuracy? [74.20%]"
      ]
    },
    {
      "cell_type": "code",
      "execution_count": 15,
      "metadata": {
        "id": "yvsWzN3gzxnk"
      },
      "outputs": [
        {
          "name": "stdout",
          "output_type": "stream",
          "text": [
            "18/18 [==============================] - 0s 7ms/step\n",
            "[0.1765, 0.8235, 0.7692, 0.9286, 0.7647, 0.7143, 0.8889, 0.9091, 0.75, 0.9333, 0.9167, 0.8182, 0.9375, 0.7333, 0.8235, 0.8261, 0.25, 0.8125, 0.8333, 0.8333, 0.5625, 0.8125, 0.8, 0.5556, 0.3529, 0.8235, 0.75, 0.7619, 0.5455, 0.8462, 0.7, 0.7895, 0.6667, 0.9167, 0.7059, 0.8636]\n"
          ]
        }
      ],
      "source": [
        "### write your code to report per-class accuracy\n",
        "### you have a list where index is the class label with value corresponding to accuracy for that class label\n",
        "test_pred = model.predict(test_images)\n",
        "output = np.array(list(map(lambda x, y: (np.where(x == max(x)) == y)[0, 0], test_pred, test_labels)))\n",
        "classAccuracy = []\n",
        "\n",
        "for i in range(36):\n",
        "    classArray = output[np.where(test_labels == i)[0]]\n",
        "    accuracy = sum(classArray)/classArray.size\n",
        "    classAccuracy.append(accuracy)\n",
        "\n",
        "print([round(i, 4) for i in classAccuracy])"
      ]
    }
  ],
  "metadata": {
    "colab": {
      "collapsed_sections": [],
      "name": "q4_template.ipynb",
      "provenance": []
    },
    "kernelspec": {
      "display_name": "Python 3.10.1 64-bit",
      "language": "python",
      "name": "python3"
    },
    "language_info": {
      "codemirror_mode": {
        "name": "ipython",
        "version": 3
      },
      "file_extension": ".py",
      "mimetype": "text/x-python",
      "name": "python",
      "nbconvert_exporter": "python",
      "pygments_lexer": "ipython3",
      "version": "3.10.1"
    },
    "vscode": {
      "interpreter": {
        "hash": "2ca6819a7b235a9e9923d27ebe966cb7261666ab2e4abf79b2eb7e1de2b3fef6"
      }
    }
  },
  "nbformat": 4,
  "nbformat_minor": 0
}
