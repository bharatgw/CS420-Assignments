{
 "cells": [
  {
   "cell_type": "code",
   "execution_count": 37,
   "metadata": {},
   "outputs": [],
   "source": [
    "from pgmpy.models import BayesianNetwork\n",
    "from pgmpy.factors.discrete import TabularCPD\n",
    "from pgmpy.inference import VariableElimination\n",
    "\n",
    "model = BayesianNetwork([(\"S\", \"Y\"), (\"S\", \"C\"), (\"F\", \"R\"), (\"M\", \"R\"), (\"P\", \"R\"), (\"R\", \"C\"), (\"R\", \"B\")])\n",
    "\n",
    "pdP = TabularCPD(\"P\", 2, [[0.001], [0.999]])\n",
    "pdS = TabularCPD(\"S\", 2, [[0.9], [0.1]])\n",
    "pdF = TabularCPD(\"F\", 2, [[0.999], [0.001]])\n",
    "pdM = TabularCPD(\"M\", 2, [[0.2], [0.8]])\n",
    "cpdB = TabularCPD(\"B\", 2, [[0.99, 0.1], [0.01, 0.9]], [\"R\"], [2])\n",
    "cpdR = TabularCPD(\"R\", 2, [[0.99, 0.8, 0.7, 0.5, 0.8, 0.6, 0.7, 0.4], [0.01, 0.2, 0.3, 0.5, 0.2, 0.4, 0.3, 0.6]], [\"F\", \"M\", \"P\"], [2, 2, 2])\n",
    "cpdC = TabularCPD(\"C\", 2, [[0.9, 0.4, 0.8, 0.1], [0.1, 0.6, 0.2, 0.9]], [\"S\", \"R\"], [2, 2])\n",
    "cpdY = TabularCPD(\"Y\", 2, [[0.9, 0.1], [0.1, 0.9]], [\"S\"], [2])\n",
    "\n",
    "model.add_cpds(pdS, pdF, pdM, pdP, cpdB, cpdR, cpdC, cpdY)"
   ]
  },
  {
   "cell_type": "code",
   "execution_count": 38,
   "metadata": {},
   "outputs": [
    {
     "name": "stdout",
     "output_type": "stream",
     "text": [
      "+------+----------+\n",
      "| R    |   phi(R) |\n",
      "+======+==========+\n",
      "| R(0) |   0.1819 |\n",
      "+------+----------+\n",
      "| R(1) |   0.8181 |\n",
      "+------+----------+\n"
     ]
    }
   ],
   "source": [
    "infer = VariableElimination(model)\n",
    "\n",
    "dist = infer.query([\"R\"], {\"C\": 1}, show_progress=False)\n",
    "print(dist)"
   ]
  },
  {
   "cell_type": "code",
   "execution_count": 39,
   "metadata": {},
   "outputs": [
    {
     "name": "stdout",
     "output_type": "stream",
     "text": [
      "+------+----------+\n",
      "| C    |   phi(C) |\n",
      "+======+==========+\n",
      "| C(0) |   0.4921 |\n",
      "+------+----------+\n",
      "| C(1) |   0.5079 |\n",
      "+------+----------+\n"
     ]
    }
   ],
   "source": [
    "dist = infer.query([\"C\"], {\"S\": 1}, show_progress=False)\n",
    "print(dist)"
   ]
  },
  {
   "cell_type": "code",
   "execution_count": 44,
   "metadata": {},
   "outputs": [
    {
     "name": "stdout",
     "output_type": "stream",
     "text": [
      "+------+----------+\n",
      "| C    |   phi(C) |\n",
      "+======+==========+\n",
      "| C(0) |   0.7641 |\n",
      "+------+----------+\n",
      "| C(1) |   0.2359 |\n",
      "+------+----------+\n"
     ]
    }
   ],
   "source": [
    "dist = infer.query([\"C\"], {\"P\": 0}, show_progress=False)\n",
    "print(dist)"
   ]
  }
 ],
 "metadata": {
  "kernelspec": {
   "display_name": "Python 3.10.1 64-bit",
   "language": "python",
   "name": "python3"
  },
  "language_info": {
   "codemirror_mode": {
    "name": "ipython",
    "version": 3
   },
   "file_extension": ".py",
   "mimetype": "text/x-python",
   "name": "python",
   "nbconvert_exporter": "python",
   "pygments_lexer": "ipython3",
   "version": "3.10.1"
  },
  "orig_nbformat": 4,
  "vscode": {
   "interpreter": {
    "hash": "2ca6819a7b235a9e9923d27ebe966cb7261666ab2e4abf79b2eb7e1de2b3fef6"
   }
  }
 },
 "nbformat": 4,
 "nbformat_minor": 2
}
